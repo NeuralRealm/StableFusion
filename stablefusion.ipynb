{
 "cells": [
  {
   "cell_type": "code",
   "execution_count": null,
   "metadata": {},
   "outputs": [],
   "source": [
    "!pip3 install stablefusion -q"
   ]
  },
  {
   "cell_type": "code",
   "execution_count": 2,
   "metadata": {},
   "outputs": [
    {
     "name": "stdout",
     "output_type": "stream",
     "text": [
      "\n"
     ]
    }
   ],
   "source": [
    "!stablefusion app --port 10000 --ngrok_key YOUR_NGROK_AUTHTOKEN --share"
   ]
  }
 ],
 "metadata": {
  "kernelspec": {
   "display_name": "diffuzers",
   "language": "python",
   "name": "python3"
  },
  "language_info": {
   "codemirror_mode": {
    "name": "ipython",
    "version": 3
   },
   "file_extension": ".py",
   "mimetype": "text/x-python",
   "name": "python",
   "nbconvert_exporter": "python",
   "pygments_lexer": "ipython3",
   "version": "3.9.16"
  },
  "orig_nbformat": 4,
  "vscode": {
   "interpreter": {
    "hash": "e667c4130092153eeed1faae4ad5e1fb640895671448a3853c00b657af26211d"
   }
  }
 },
 "nbformat": 4,
 "nbformat_minor": 2
}
